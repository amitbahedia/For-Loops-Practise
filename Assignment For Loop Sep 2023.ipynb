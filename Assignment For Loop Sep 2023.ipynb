{
 "cells": [
  {
   "cell_type": "code",
   "execution_count": 1,
   "id": "a2f38ec4-e114-4214-9f59-ab04f779309d",
   "metadata": {},
   "outputs": [],
   "source": [
    "## Basic Level:\n"
   ]
  },
  {
   "cell_type": "code",
   "execution_count": 2,
   "id": "78ff01ce-671d-4773-82a5-d12b927688fa",
   "metadata": {},
   "outputs": [],
   "source": [
    "# Write a Python program to print the numbers from 1 to 10 using a `for` loop.\n"
   ]
  },
  {
   "cell_type": "code",
   "execution_count": 4,
   "id": "e348b658-f107-4a4d-a0b6-06ba9da79a85",
   "metadata": {},
   "outputs": [
    {
     "name": "stdout",
     "output_type": "stream",
     "text": [
      "1 2 3 4 5 6 7 8 9 10 "
     ]
    }
   ],
   "source": [
    "for i in range(1,11) :\n",
    "    print(i, end = \" \")\n"
   ]
  },
  {
   "cell_type": "code",
   "execution_count": 5,
   "id": "6057bf51-62b0-4f1b-a1a8-9b0e2d7eeead",
   "metadata": {},
   "outputs": [],
   "source": [
    "## Create a program that calculates the sum of all numbers in a list using a `for` loop.\n"
   ]
  },
  {
   "cell_type": "code",
   "execution_count": 6,
   "id": "995f001f-48ba-4757-b653-b32d9e6ea4c3",
   "metadata": {},
   "outputs": [
    {
     "name": "stdout",
     "output_type": "stream",
     "text": [
      "39\n"
     ]
    }
   ],
   "source": [
    "List1 = [1,2,3,4,5,6,7,5,6]\n",
    "Sum = 0\n",
    "\n",
    "for i in List1:\n",
    "    Sum = Sum + i\n",
    "print(Sum)"
   ]
  },
  {
   "cell_type": "code",
   "execution_count": 7,
   "id": "36519282-eb66-424d-ac7f-001261a24d2b",
   "metadata": {},
   "outputs": [],
   "source": [
    "## Write a program to print the characters of a string in reverse order using a `for` loop.\n"
   ]
  },
  {
   "cell_type": "code",
   "execution_count": 18,
   "id": "e51e743e-5cda-4017-837c-60ca40b8d1d1",
   "metadata": {},
   "outputs": [
    {
     "name": "stdin",
     "output_type": "stream",
     "text": [
      "Enter the string Amit\n"
     ]
    },
    {
     "name": "stdout",
     "output_type": "stream",
     "text": [
      "t\n",
      "i\n",
      "m\n",
      "A\n"
     ]
    }
   ],
   "source": [
    "Input_String = input(\"Enter the string\")\n",
    "\n",
    "for i in Input_String[::-1]:\n",
    "    print(i)\n",
    "\n",
    "\n",
    "\n",
    "    "
   ]
  },
  {
   "cell_type": "code",
   "execution_count": 19,
   "id": "10a5b54a-01a3-47f5-9789-df803f47421e",
   "metadata": {},
   "outputs": [],
   "source": [
    "## Develop a program that finds the factorial of a given number using a `for` loop.\n"
   ]
  },
  {
   "cell_type": "code",
   "execution_count": 23,
   "id": "c2450045-92ee-4c07-a8b6-63ddbb8537ac",
   "metadata": {},
   "outputs": [
    {
     "name": "stdin",
     "output_type": "stream",
     "text": [
      "Enter the number for which we have to find factorial 5\n"
     ]
    },
    {
     "name": "stdout",
     "output_type": "stream",
     "text": [
      "The factorial of 5 is 120\n"
     ]
    }
   ],
   "source": [
    "Number = int(input(\"Enter the number for which we have to find factorial\"))\n",
    "\n",
    "Fact = 1\n",
    "\n",
    "for i in range(1, Number + 1):\n",
    "    Fact = Fact * i\n",
    "    \n",
    "print(\"The factorial of\", Number ,  \"is\", Fact) \n",
    "\n",
    "\n"
   ]
  },
  {
   "cell_type": "code",
   "execution_count": 24,
   "id": "31adb5c6-e73e-413a-af8b-e71223cdfdf5",
   "metadata": {},
   "outputs": [],
   "source": [
    "## Create a program to print the multiplication table of a given number using a `for` loop.\n"
   ]
  },
  {
   "cell_type": "code",
   "execution_count": 37,
   "id": "a2eb507a-e11f-4801-8632-e60df20cb134",
   "metadata": {},
   "outputs": [
    {
     "name": "stdin",
     "output_type": "stream",
     "text": [
      "Enter the number for which we have to print table till 10 12\n"
     ]
    },
    {
     "name": "stdout",
     "output_type": "stream",
     "text": [
      "12 x 1 = 12\n",
      "12 x 2 = 24\n",
      "12 x 3 = 36\n",
      "12 x 4 = 48\n",
      "12 x 5 = 60\n",
      "12 x 6 = 72\n",
      "12 x 7 = 84\n",
      "12 x 8 = 96\n",
      "12 x 9 = 108\n",
      "12 x 10 = 120\n"
     ]
    }
   ],
   "source": [
    "Number = int(input(\"Enter the number for which we have to print table till 10\"))\n",
    "\n",
    "for i in range(1,11):\n",
    "    table = Number * i\n",
    "    print(Number, \"x\", i, \"=\" ,  table)\n",
    "\n"
   ]
  },
  {
   "cell_type": "code",
   "execution_count": 1,
   "id": "51abd16d-2a25-4cec-ad71-cfca2237316b",
   "metadata": {},
   "outputs": [],
   "source": [
    "## Write a program that counts the number of even and odd numbers in a list using a `for` loop.\n"
   ]
  },
  {
   "cell_type": "code",
   "execution_count": 11,
   "id": "30ec4432-98da-4ef3-8477-f76172729a37",
   "metadata": {},
   "outputs": [
    {
     "name": "stdout",
     "output_type": "stream",
     "text": [
      "the total number of even numbers are 3\n",
      "the total number of odd numbers are 4\n"
     ]
    }
   ],
   "source": [
    "List2 = [23,34,57,87,12,34,65]\n",
    "\n",
    "Count = 0\n",
    "Count1 = 0\n",
    "\n",
    "for i in List2:\n",
    "    if i%2 == 0:\n",
    "        Count = Count + 1\n",
    "    else:\n",
    "        Count1 = Count1 + 1\n",
    "print(\"the total number of even numbers are\", Count)\n",
    "print(\"the total number of odd numbers are\", Count1)\n",
    "       "
   ]
  },
  {
   "cell_type": "code",
   "execution_count": 12,
   "id": "80d28bb4-2ae6-4ed8-a236-9ad07d76977a",
   "metadata": {},
   "outputs": [],
   "source": [
    "## Develop a program that prints the squares of numbers from 1 to 5 using a `for` loop.\n"
   ]
  },
  {
   "cell_type": "code",
   "execution_count": 15,
   "id": "c63800f8-b8c7-48e2-8930-79c451244179",
   "metadata": {},
   "outputs": [
    {
     "name": "stdout",
     "output_type": "stream",
     "text": [
      "1 * 1 = 1\n",
      "2 * 2 = 4\n",
      "3 * 3 = 9\n",
      "4 * 4 = 16\n",
      "5 * 5 = 25\n"
     ]
    }
   ],
   "source": [
    "for i in range(1, 6):\n",
    "    print(i, \"*\", i, \"=\",  i**2)"
   ]
  },
  {
   "cell_type": "code",
   "execution_count": 16,
   "id": "a46c28c5-d005-4d60-b407-5ca1f5a954c7",
   "metadata": {},
   "outputs": [],
   "source": [
    "## Create a program to find the length of a string without using the `len()` function"
   ]
  },
  {
   "cell_type": "code",
   "execution_count": 22,
   "id": "75ad679a-0bd7-4655-93ca-81f3bc219368",
   "metadata": {},
   "outputs": [
    {
     "name": "stdin",
     "output_type": "stream",
     "text": [
      "Enter the string I am great\n"
     ]
    },
    {
     "name": "stdout",
     "output_type": "stream",
     "text": [
      "The lenght of the string is  10\n"
     ]
    }
   ],
   "source": [
    "Input_String = input(\"Enter the string\")\n",
    "\n",
    "count = 0\n",
    "\n",
    "for i in Input_String:\n",
    "    count = count + 1\n",
    "print(\"The lenght of the string is \", count)\n"
   ]
  },
  {
   "cell_type": "code",
   "execution_count": 23,
   "id": "99cb5b68-d08a-436d-b04b-16f37f818d5b",
   "metadata": {},
   "outputs": [],
   "source": [
    "## Write a program that calculates the average of a list of numbers using a `for` loop.\n"
   ]
  },
  {
   "cell_type": "code",
   "execution_count": 26,
   "id": "cb4bba07-8e13-4915-a1b3-2103a27d8b85",
   "metadata": {},
   "outputs": [
    {
     "name": "stdout",
     "output_type": "stream",
     "text": [
      "the average of the numbers are  21.333333333333332\n"
     ]
    }
   ],
   "source": [
    "list3 = [34,12,1,2,34,45]\n",
    "\n",
    "Count = 0\n",
    "Sum = 0\n",
    "\n",
    "for i in list3:\n",
    "    Count = Count + 1\n",
    "    Sum = Sum + i\n",
    "    Average = Sum / Count\n",
    "    \n",
    "print(\"the average of the numbers are \",  Average)\n",
    "\n",
    "    "
   ]
  },
  {
   "cell_type": "code",
   "execution_count": 27,
   "id": "7767007a-1065-44c3-b52d-bac1a272256a",
   "metadata": {},
   "outputs": [],
   "source": [
    "## Develop a program that prints the first `n` Fibonacci numbers using a `for` loop.\n"
   ]
  },
  {
   "cell_type": "code",
   "execution_count": 30,
   "id": "896828e4-93ee-48d2-8a43-9a0d0d1ae56d",
   "metadata": {},
   "outputs": [
    {
     "name": "stdin",
     "output_type": "stream",
     "text": [
      "Enter the numbers to which we have to print Fibonacci series 6\n"
     ]
    },
    {
     "name": "stdout",
     "output_type": "stream",
     "text": [
      "0\n",
      "1\n",
      "1\n",
      "2\n",
      "3\n",
      "5\n"
     ]
    }
   ],
   "source": [
    "Number = int(input(\"Enter the numbers to which we have to print Fibonacci series\"))\n",
    "\n",
    "a = 0\n",
    "b = 1\n",
    "\n",
    "for i in range(Number):\n",
    "    print(a)\n",
    "    temp = a\n",
    "    a = b\n",
    "    b = temp + b\n",
    "    "
   ]
  },
  {
   "cell_type": "code",
   "execution_count": 1,
   "id": "fc68cc87-6d53-4432-a674-1bd80b3d441c",
   "metadata": {},
   "outputs": [],
   "source": [
    "## Intermediate Level:\n"
   ]
  },
  {
   "cell_type": "code",
   "execution_count": 2,
   "id": "68183dd0-260e-4852-a786-e57f432ae085",
   "metadata": {},
   "outputs": [],
   "source": [
    "## Write a program to check if a given list contains any duplicates using a `for` loop"
   ]
  },
  {
   "cell_type": "code",
   "execution_count": 21,
   "id": "b3a76e03-59ee-4b0e-ad73-fbd467e0e510",
   "metadata": {},
   "outputs": [
    {
     "name": "stdout",
     "output_type": "stream",
     "text": [
      "The list has duplicates.\n"
     ]
    }
   ],
   "source": [
    "def check_duplicates_using_for_loop(list1):\n",
    "  \n",
    "\n",
    "\n",
    "  for i in range(len(list1)):\n",
    "    for j in range(i + 1, len(list1)):\n",
    "      if list1[i] == list1[j]:\n",
    "        return True\n",
    "\n",
    "  return False\n",
    "\n",
    "\n",
    "# Example usage:\n",
    "list1 = [1, 2, 3, 4, 5, 2, 3, 4]\n",
    "\n",
    "has_duplicates = check_duplicates_using_for_loop(list1)\n",
    "\n",
    "if has_duplicates:\n",
    "  print(\"The list has duplicates.\")\n",
    "else:\n",
    "  print(\"The list does not have duplicates.\")"
   ]
  },
  {
   "cell_type": "code",
   "execution_count": 22,
   "id": "f55580f8-1209-45c4-9545-aa3af1e87a70",
   "metadata": {},
   "outputs": [],
   "source": [
    "##Create a program that prints the prime numbers in a given range using a `for` loop"
   ]
  },
  {
   "cell_type": "code",
   "execution_count": 29,
   "id": "389eeb0a-e2b5-4f58-9cdd-bd8590811b17",
   "metadata": {},
   "outputs": [
    {
     "name": "stdout",
     "output_type": "stream",
     "text": [
      "2\n",
      "3\n",
      "5\n",
      "7\n",
      "11\n",
      "13\n",
      "17\n",
      "19\n",
      "23\n",
      "29\n",
      "31\n",
      "37\n",
      "41\n",
      "43\n",
      "47\n",
      "53\n",
      "59\n",
      "61\n",
      "67\n",
      "71\n",
      "73\n",
      "79\n",
      "83\n",
      "89\n",
      "97\n"
     ]
    }
   ],
   "source": [
    "for i in range(2,100):\n",
    "    if i == 1:\n",
    "        continue\n",
    "    is_prime = True\n",
    "    \n",
    "    for j in range(2, int(i**0.5) + 1):\n",
    "        if i % j == 0:\n",
    "            is_prime = False\n",
    "            break\n",
    "    if is_prime:\n",
    "        print(i)\n",
    "        "
   ]
  },
  {
   "cell_type": "code",
   "execution_count": 30,
   "id": "cb0900a2-b227-4e88-9c26-4cb681cbc57e",
   "metadata": {},
   "outputs": [],
   "source": [
    "## Develop a program that counts the number of vowels in a string using a `for` loop"
   ]
  },
  {
   "cell_type": "code",
   "execution_count": 35,
   "id": "3e6c8bc5-9c63-4be3-9484-db313a5857c3",
   "metadata": {},
   "outputs": [
    {
     "name": "stdin",
     "output_type": "stream",
     "text": [
      "Enter the string I am fine\n"
     ]
    },
    {
     "name": "stdout",
     "output_type": "stream",
     "text": [
      "the number of vowels in  I am fine is 4\n"
     ]
    }
   ],
   "source": [
    "str5 = input(\"Enter the string\")\n",
    "Vowels = \"aeiouAEIOU\"\n",
    "Count = 0\n",
    "\n",
    "for i in str5:\n",
    "    if i in Vowels:\n",
    "        Count = Count + 1\n",
    "print(\"the number of vowels in \", str5, \"is\", Count)"
   ]
  },
  {
   "cell_type": "code",
   "execution_count": 36,
   "id": "386e9fc6-4fea-4a92-8912-7ae6cdabf7c5",
   "metadata": {},
   "outputs": [],
   "source": [
    "## Write a program to find the maximum element in a 2D list using a nested `for` loop.\n"
   ]
  },
  {
   "cell_type": "code",
   "execution_count": 74,
   "id": "24842be4-b3a3-4553-bf5f-3b64f2fb68fd",
   "metadata": {},
   "outputs": [
    {
     "name": "stdout",
     "output_type": "stream",
     "text": [
      "6\n"
     ]
    }
   ],
   "source": [
    "list6 = [[1, 2], [3, 4], [5, 6]] \n",
    "max_element = list6[0][0]\n",
    "for i in list6:\n",
    "    for j in i:\n",
    "        if j > max_element:\n",
    "            max_element = j\n",
    "print(max_element)\n",
    "            \n",
    "        "
   ]
  },
  {
   "cell_type": "code",
   "execution_count": 75,
   "id": "e48baae4-7946-4053-95c4-62bf1b014e42",
   "metadata": {},
   "outputs": [],
   "source": [
    "## Create a program that removes all occurrences of a specific element from a list using a `for` loop.\n"
   ]
  },
  {
   "cell_type": "code",
   "execution_count": 3,
   "id": "5fd430c5-28a7-4abc-b53c-a7ca9dbea3d3",
   "metadata": {},
   "outputs": [
    {
     "name": "stdin",
     "output_type": "stream",
     "text": [
      "Enter the element whose occurances has to be removed 1\n"
     ]
    },
    {
     "name": "stdout",
     "output_type": "stream",
     "text": [
      "the updated list is  [2, 3, 4, 5, 6, 9]\n"
     ]
    }
   ],
   "source": [
    "list7 = [1,1,2,3,4,5,6,9]\n",
    "\n",
    "Input_Element = int(input(\"Enter the element whose occurances has to be removed\"))\n",
    "\n",
    "Updated_List = [i for i in list7 if i != Input_Element]\n",
    "\n",
    "print(\"the updated list is \", Updated_List)\n",
    "\n",
    "     \n",
    "    \n",
    "\n",
    "        \n",
    "    \n",
    "        \n",
    "        \n",
    "        "
   ]
  },
  {
   "cell_type": "code",
   "execution_count": 4,
   "id": "87afc556-006a-4fd7-a7eb-0bdda8992f12",
   "metadata": {},
   "outputs": [],
   "source": [
    "# Develop a program that generates a multiplication table for numbers from 1 to 5 using a nested `for` loop"
   ]
  },
  {
   "cell_type": "code",
   "execution_count": 23,
   "id": "e07ea202-2971-4aea-a145-c98ce5c0fa5a",
   "metadata": {},
   "outputs": [
    {
     "name": "stdout",
     "output_type": "stream",
     "text": [
      "1 x 1 = 1\n",
      "1 x 2 = 2\n",
      "1 x 3 = 3\n",
      "1 x 4 = 4\n",
      "1 x 5 = 5\n",
      "1 x 6 = 6\n",
      "1 x 7 = 7\n",
      "1 x 8 = 8\n",
      "1 x 9 = 9\n",
      "1 x 10 = 10\n",
      "2 x 1 = 2\n",
      "2 x 2 = 4\n",
      "2 x 3 = 6\n",
      "2 x 4 = 8\n",
      "2 x 5 = 10\n",
      "2 x 6 = 12\n",
      "2 x 7 = 14\n",
      "2 x 8 = 16\n",
      "2 x 9 = 18\n",
      "2 x 10 = 20\n",
      "3 x 1 = 3\n",
      "3 x 2 = 6\n",
      "3 x 3 = 9\n",
      "3 x 4 = 12\n",
      "3 x 5 = 15\n",
      "3 x 6 = 18\n",
      "3 x 7 = 21\n",
      "3 x 8 = 24\n",
      "3 x 9 = 27\n",
      "3 x 10 = 30\n",
      "4 x 1 = 4\n",
      "4 x 2 = 8\n",
      "4 x 3 = 12\n",
      "4 x 4 = 16\n",
      "4 x 5 = 20\n",
      "4 x 6 = 24\n",
      "4 x 7 = 28\n",
      "4 x 8 = 32\n",
      "4 x 9 = 36\n",
      "4 x 10 = 40\n",
      "5 x 1 = 5\n",
      "5 x 2 = 10\n",
      "5 x 3 = 15\n",
      "5 x 4 = 20\n",
      "5 x 5 = 25\n",
      "5 x 6 = 30\n",
      "5 x 7 = 35\n",
      "5 x 8 = 40\n",
      "5 x 9 = 45\n",
      "5 x 10 = 50\n"
     ]
    }
   ],
   "source": [
    "for i in range(1,6): ## loop for numbers from 1 to 5\n",
    "    for j in range(1,11): ## \n",
    "        Table = i * j\n",
    "        print(i , 'x', j, \"=\",  Table)\n",
    "        \n",
    "\n",
    "\n",
    "       \n",
    "\n",
    "   \n",
    "        "
   ]
  },
  {
   "cell_type": "code",
   "execution_count": 25,
   "id": "b6ce0065-ac12-4965-8e7d-4b15fe78eefd",
   "metadata": {},
   "outputs": [],
   "source": [
    "## Create a program to print the common elements from two lists using a `for` loop.\n",
    "\n"
   ]
  },
  {
   "cell_type": "code",
   "execution_count": 29,
   "id": "d640bd85-5eaa-490c-9094-c69ca39eec2b",
   "metadata": {},
   "outputs": [
    {
     "name": "stdout",
     "output_type": "stream",
     "text": [
      "[1, 3, 56, 23]\n"
     ]
    }
   ],
   "source": [
    "l1 = [1,2,3,4,5,56,4,23]\n",
    "l2 = [1,3,34,56,12,23]\n",
    "Common_Elements_List = [] ## updated list having common elements\n",
    "\n",
    "for i in l1:\n",
    "    for j in l2:\n",
    "        if i == j:\n",
    "            Common_Elements_List.append(i)\n",
    "print(Common_Elements_List)"
   ]
  },
  {
   "cell_type": "code",
   "execution_count": 2,
   "id": "def924ce-8213-42a4-bd1e-549e7c2b5fb3",
   "metadata": {},
   "outputs": [],
   "source": [
    "## Develop a program that prints the pattern of right-angled triangles using a `for` loop. Use ‘*’ to draw the\n",
    "##pattern\n"
   ]
  },
  {
   "cell_type": "code",
   "execution_count": 5,
   "id": "1180486d-858d-4c4b-ace9-bd9e40a7c80c",
   "metadata": {},
   "outputs": [
    {
     "name": "stdout",
     "output_type": "stream",
     "text": [
      "*\n",
      "**\n",
      "***\n",
      "****\n",
      "*****\n",
      "******\n",
      "*******\n"
     ]
    }
   ],
   "source": [
    "for i in range(1,8):\n",
    "    for j in range(1, i+1):\n",
    "         print(\"*\", end=\"\")\n",
    "    print()\n",
    "        "
   ]
  },
  {
   "cell_type": "code",
   "execution_count": 6,
   "id": "0227c5e7-ec37-4fc5-8b0c-10669ba68075",
   "metadata": {},
   "outputs": [],
   "source": [
    "## Write a program to find the greatest common divisor (GCD) of two numbers using a `for` loop.\n"
   ]
  },
  {
   "cell_type": "code",
   "execution_count": 9,
   "id": "b6550298-a68c-4b62-abd0-498b289e54b1",
   "metadata": {},
   "outputs": [
    {
     "data": {
      "text/plain": [
       "1"
      ]
     },
     "execution_count": 9,
     "metadata": {},
     "output_type": "execute_result"
    }
   ],
   "source": [
    "def gcd(a,b):\n",
    "    \n",
    "    \n",
    "    smaller_number = min(a,b) # Iterate over the numbers from the smaller number to 1, in reverse order.\n",
    "    for i in range(smaller_number, 0, -1):\n",
    "        if a % i == 0 and b % i == 0:\n",
    "            return i\n",
    "    ### If we reach this point, then the two numbers have no common divisors other\n",
    "  # than 1, so the greatest common divisor is 1.\n",
    "    return 1\n",
    "\n",
    "\n",
    "gcd(19,25)"
   ]
  },
  {
   "cell_type": "code",
   "execution_count": 1,
   "id": "a2557c9e-36be-4ef5-b28e-31c36b5526c1",
   "metadata": {},
   "outputs": [],
   "source": [
    "##Advance Level"
   ]
  },
  {
   "cell_type": "code",
   "execution_count": 3,
   "id": "90dfdca5-7871-43e0-a9ae-004395fbb1f8",
   "metadata": {},
   "outputs": [],
   "source": [
    "## Create a program that calculates the sum of the digits of numbers in a list using a list comprehension.\n"
   ]
  },
  {
   "cell_type": "code",
   "execution_count": 7,
   "id": "15613c95-1770-40cb-b28d-10edce59a52f",
   "metadata": {},
   "outputs": [
    {
     "name": "stdout",
     "output_type": "stream",
     "text": [
      "the sum of digits are [5, 9, 13]\n"
     ]
    }
   ],
   "source": [
    "def sum_of_digits(numbers):\n",
    "  \"\"\"Calculates the sum of the digits of numbers in a list using a list comprehension.\n",
    "\n",
    "  Args:\n",
    "    numbers: A list of numbers.\n",
    "\n",
    "  Returns:\n",
    "    A list of the sum of the digits of each number in the list.\n",
    "  \"\"\"\n",
    "\n",
    "  # List comprehension to calculate the sum of the digits of each number in the list.\n",
    "  sum_of_digits = [sum(int(digit) for digit in str(number)) for number in numbers]\n",
    "\n",
    "  return sum_of_digits\n",
    "\n",
    "Sum_of_Digits = sum_of_digits([23,45,67])\n",
    "\n",
    "print(\"the sum of digits are\", Sum_of_Digits)\n"
   ]
  },
  {
   "cell_type": "code",
   "execution_count": 8,
   "id": "ec37e121-ce37-4937-b695-b6e18a5733b8",
   "metadata": {},
   "outputs": [],
   "source": [
    "## Write a program to find the prime factors of a given number using a `for` loop and list comprehension.\n"
   ]
  },
  {
   "cell_type": "code",
   "execution_count": 14,
   "id": "c90e735d-4b4f-4c54-b09c-c9280bf0c5ae",
   "metadata": {},
   "outputs": [
    {
     "data": {
      "text/plain": [
       "[2, 4, 5, 10]"
      ]
     },
     "execution_count": 14,
     "metadata": {},
     "output_type": "execute_result"
    }
   ],
   "source": [
    "def prime_factors(n): ## Arg will be a positive integer\n",
    "    \n",
    "   return  [i for i in range(2, int(n**0.5) + 1) if n % i == 0] ## Using List Comprehension\n",
    "\n",
    "\n",
    "prime_factors(100)\n",
    "    "
   ]
  },
  {
   "cell_type": "code",
   "execution_count": 17,
   "id": "bde03f70-3d89-42ad-b70d-608400dac992",
   "metadata": {},
   "outputs": [],
   "source": [
    "## Develop a program that extracts unique elements from a list and stores them in a new list using a list\n",
    "## comprehension.\n"
   ]
  },
  {
   "cell_type": "code",
   "execution_count": 35,
   "id": "52b26cc5-db04-4ac9-bff3-a70157728b5d",
   "metadata": {},
   "outputs": [
    {
     "data": {
      "text/plain": [
       "[1, 2, 3, 4]"
      ]
     },
     "execution_count": 35,
     "metadata": {},
     "output_type": "execute_result"
    }
   ],
   "source": [
    "def unique_elements(list1):\n",
    "    \n",
    "    unique_elements = [i for i in set(list1)]\n",
    "    return unique_elements\n",
    "\n",
    "list1 = [1,1,2,2,3,4]\n",
    "unique_elements = unique_elements(list1)\n",
    "unique_elements"
   ]
  },
  {
   "cell_type": "code",
   "execution_count": 37,
   "id": "a35281e9-e7ca-47f8-bc2d-9299a6dc1e5b",
   "metadata": {},
   "outputs": [
    {
     "data": {
      "text/plain": [
       "'\\nCreate a program that generates a list of all palindromic numbers up to a specified limit using a list\\ncomprehension.\\n\\n'"
      ]
     },
     "execution_count": 37,
     "metadata": {},
     "output_type": "execute_result"
    }
   ],
   "source": [
    "\"\"\"\n",
    "Create a program that generates a list of all palindromic numbers up to a specified limit using a list\n",
    "comprehension.\n",
    "\n",
    "\"\"\""
   ]
  },
  {
   "cell_type": "code",
   "execution_count": 45,
   "id": "dca90c6d-d239-4fa0-b759-f4abe6d08ef3",
   "metadata": {},
   "outputs": [
    {
     "data": {
      "text/plain": [
       "[111, 131, 141, 181]"
      ]
     },
     "execution_count": 45,
     "metadata": {},
     "output_type": "execute_result"
    }
   ],
   "source": [
    "def palindromic_numbers(list2):\n",
    "    \n",
    "    palindromic_numbers = [i for i in list2 if str(i) == str(i)[::-1]]\n",
    "    \n",
    "    return palindromic_numbers\n",
    "\n",
    "list2 = [111,131,123,141,181]\n",
    "palindromic_numbers = palindromic_numbers(list2)\n",
    "palindromic_numbers\n",
    "\n",
    "\n",
    "    "
   ]
  },
  {
   "cell_type": "code",
   "execution_count": 46,
   "id": "5b9d466e-80b0-4a79-9906-d5320ec5fee4",
   "metadata": {},
   "outputs": [],
   "source": [
    "## Write a program to flatten a nested list using list comprehension.\n"
   ]
  },
  {
   "cell_type": "code",
   "execution_count": 49,
   "id": "40e16b36-9ee4-4508-9c88-d33690159e08",
   "metadata": {},
   "outputs": [
    {
     "data": {
      "text/plain": [
       "[1, 2, 3, 4, 56, 9]"
      ]
     },
     "execution_count": 49,
     "metadata": {},
     "output_type": "execute_result"
    }
   ],
   "source": [
    "def  flattened_list(list3): ## Function to create a multi-dimensioanl list into single dimensional\n",
    "    \n",
    "     flattened_list = [j for i in list3 for j in i]\n",
    "        \n",
    "     return flattened_list\n",
    "\n",
    "list3 = [[1,2,3], [4,56,9]]\n",
    "\n",
    "flattened_list = flattened_list(list3)\n",
    "\n",
    "flattened_list \n",
    "\n",
    "    "
   ]
  },
  {
   "cell_type": "code",
   "execution_count": 50,
   "id": "6164f098-679b-4bae-a1f8-b672850932d1",
   "metadata": {},
   "outputs": [],
   "source": [
    "##Develop a program that computes the sum of even and odd numbers in a list separately using list comprehension.\n"
   ]
  },
  {
   "cell_type": "code",
   "execution_count": 14,
   "id": "ff2075ff-1707-448d-9649-d34f7213e710",
   "metadata": {},
   "outputs": [
    {
     "name": "stdout",
     "output_type": "stream",
     "text": [
      "96\n",
      "28\n"
     ]
    }
   ],
   "source": [
    "list4 = [23,4,5,68,24]\n",
    "\n",
    "Sum_even = sum(i for i in list4 if i % 2 == 0) ## used sum funtion to calculate sum\n",
    "Sum_odd = sum(i for i in list4 if i % 2 != 0)\n",
    "\n",
    "print(Sum_even)\n",
    "print(Sum_odd)\n"
   ]
  },
  {
   "cell_type": "code",
   "execution_count": 16,
   "id": "02d4e101-63cf-4523-8ddb-f80740510bfb",
   "metadata": {},
   "outputs": [],
   "source": [
    "## Create a program that generates a list of squares of odd numbers between 1 and 10 using list\n",
    "## comprehension.\n"
   ]
  },
  {
   "cell_type": "code",
   "execution_count": 18,
   "id": "1186b626-5755-4038-816c-103497c6a797",
   "metadata": {},
   "outputs": [
    {
     "data": {
      "text/plain": [
       "[1, 9, 25, 49, 81]"
      ]
     },
     "execution_count": 18,
     "metadata": {},
     "output_type": "execute_result"
    }
   ],
   "source": [
    "Odd_Squares_list = [i**2 for i in range(1, 11) if i % 2 != 0]\n",
    "Odd_Squares_list"
   ]
  },
  {
   "cell_type": "code",
   "execution_count": 19,
   "id": "93a913a2-411b-4621-ba36-bde77df8d8f3",
   "metadata": {},
   "outputs": [],
   "source": [
    "## 28. Write a program that combines two lists into a dictionary using list comprehension.\n"
   ]
  },
  {
   "cell_type": "code",
   "execution_count": 28,
   "id": "a81c7bf6-9a49-4886-a94d-1c48771230f7",
   "metadata": {},
   "outputs": [
    {
     "data": {
      "text/plain": [
       "{1: 'A', 2: 'B', 3: 'C', 4: 'D', 5: 'E'}"
      ]
     },
     "execution_count": 28,
     "metadata": {},
     "output_type": "execute_result"
    }
   ],
   "source": [
    "First_list = [1,2,3,4,5,6]\n",
    "Second_list = [\"A\", \"B\", \"C\", \"D\", \"E\"]\n",
    "\n",
    "## we use dictionary comphrehension here with Zip function\n",
    "\n",
    "Dict = {i:j for i, j in zip(First_list, Second_list)}\n",
    "\n",
    "print(Dict)"
   ]
  },
  {
   "cell_type": "code",
   "execution_count": 29,
   "id": "6c28668b-a050-4b37-87e3-f35bb6bb124e",
   "metadata": {},
   "outputs": [],
   "source": [
    "## Develop a program that extracts the vowels from a string and stores them in a list using list comprehension"
   ]
  },
  {
   "cell_type": "code",
   "execution_count": 32,
   "id": "ed21d9de-a656-48a3-ae87-92ed15d43b6d",
   "metadata": {},
   "outputs": [
    {
     "data": {
      "text/plain": [
       "['a', 'i', 'a', 'i']"
      ]
     },
     "execution_count": 32,
     "metadata": {},
     "output_type": "execute_result"
    }
   ],
   "source": [
    "New_String = \"Happy Diwali\"\n",
    "\n",
    "Vowels = \"AEIOUaeiou\"\n",
    "\n",
    "New_list = [i for i in New_String if i in Vowels]\n",
    "\n",
    "New_list"
   ]
  },
  {
   "cell_type": "code",
   "execution_count": 33,
   "id": "c849f329-97a1-46bb-8486-c2369963dd4d",
   "metadata": {},
   "outputs": [],
   "source": [
    "## Create a program that removes all non-numeric characters from a list of strings using list comprehension"
   ]
  },
  {
   "cell_type": "code",
   "execution_count": 43,
   "id": "bed492fa-ddfe-48bb-ad74-a57ebc4705c5",
   "metadata": {},
   "outputs": [
    {
     "data": {
      "text/plain": [
       "['Amit', 'tin', '']"
      ]
     },
     "execution_count": 43,
     "metadata": {},
     "output_type": "execute_result"
    }
   ],
   "source": [
    "List8 = [\"Amit\", \"tin123\", \"234\"]\n",
    "\n",
    "Updated_list = [\"\" .join(j for j in i if not j.isdigit()) for i in List8]\n",
    "\n",
    "Updated_list\n",
    "\n",
    "\n"
   ]
  },
  {
   "cell_type": "code",
   "execution_count": null,
   "id": "00baf444-6a6c-41fb-8cae-861b4a8cdeb2",
   "metadata": {},
   "outputs": [],
   "source": []
  }
 ],
 "metadata": {
  "kernelspec": {
   "display_name": "Python 3 (ipykernel)",
   "language": "python",
   "name": "python3"
  },
  "language_info": {
   "codemirror_mode": {
    "name": "ipython",
    "version": 3
   },
   "file_extension": ".py",
   "mimetype": "text/x-python",
   "name": "python",
   "nbconvert_exporter": "python",
   "pygments_lexer": "ipython3",
   "version": "3.10.8"
  }
 },
 "nbformat": 4,
 "nbformat_minor": 5
}
